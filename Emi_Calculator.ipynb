{
  "nbformat": 4,
  "nbformat_minor": 0,
  "metadata": {
    "colab": {
      "provenance": [],
      "collapsed_sections": [
        "n5NZRQbDZ5hZ"
      ],
      "toc_visible": true,
      "authorship_tag": "ABX9TyOai5M11Iy07XpQvzEhBAwh",
      "include_colab_link": true
    },
    "kernelspec": {
      "name": "python3",
      "display_name": "Python 3"
    },
    "language_info": {
      "name": "python"
    }
  },
  "cells": [
    {
      "cell_type": "markdown",
      "metadata": {
        "id": "view-in-github",
        "colab_type": "text"
      },
      "source": [
        "<a href=\"https://colab.research.google.com/github/KottaRachana/Mini-Assignments/blob/main/Emi_Calculator.ipynb\" target=\"_parent\"><img src=\"https://colab.research.google.com/assets/colab-badge.svg\" alt=\"Open In Colab\"/></a>"
      ]
    },
    {
      "cell_type": "markdown",
      "source": [
        "Problem: One\n",
        "---\n",
        "Comparing two options for Radha to decide which option to be choosen from the given scenarios.\n",
        "\n",
        "*Option 1*:Make an immediate downpayment of rs 3,00,000 and take loan for 8 year loan with an interest rate of 10% per annum (compounded monthly) for the remaining amount.\n",
        "*Option 2:* Take a 10 year loan with an interest rate of 8% per annum compunded monthly for the entire amount."
      ],
      "metadata": {
        "id": "SwbK0aCPb7Wo"
      }
    },
    {
      "cell_type": "code",
      "source": [
        "import math\n",
        "def loan_emi(amount, duration, rate, down_payment=0):\n",
        "  loan_amount = amount - down_payment\n",
        "  try:\n",
        "    emi = (loan_amount * rate *((1+rate)**(duration)))/(((1+rate)**duration)-1)\n",
        "  except ZeroDivisionError:\n",
        "    emi = loan_amount/duration  ## when rate of interest is zero (r=0), emi = loan_amt/number of month##\n",
        "  return emi\n",
        "\n",
        "emi_amount1 = loan_emi(amount=1.26e6, duration=8*12, rate=10/1200, down_payment=3e5)\n",
        "print(\"emi_amount of option 1 is {}\".format(math.ceil(emi_amount1)))\n",
        "\n",
        "\n",
        "emi_amount2 = loan_emi(amount=1.26e6, duration=10*12, rate=8/1200, down_payment=0)\n",
        "print(\"emi_amount of option 2 is {}\".format(math.ceil(emi_amount2)))\n",
        "\n",
        "if emi_amount1 > emi_amount2:\n",
        "  print(\"Option 1 is better with emi per month:{}\".format(emi_amount1))\n",
        "else: print(\"Option 2 is better with emi per month:{}\".format(math.ceil(emi_amount2)))"
      ],
      "metadata": {
        "id": "zzeFh479cIj_",
        "colab": {
          "base_uri": "https://localhost:8080/"
        },
        "outputId": "d3646b22-3780-458d-fe09-87e5335a8972"
      },
      "execution_count": 31,
      "outputs": [
        {
          "output_type": "stream",
          "name": "stdout",
          "text": [
            "emi_amount of option 1 is 14568\n",
            "emi_amount of option 2 is 15288\n",
            "Option 2 is better with emi per month:15288\n"
          ]
        }
      ]
    },
    {
      "cell_type": "markdown",
      "source": [
        "# Problem: Two\n",
        "---\n",
        "Shaun is currently paying back a home loan for a house a few years ago. The cost of the house was  rs 8,00,000. He made a downpayment of 25% of cost ,\n",
        "and financed the remaining amount using a 6 year loan with an interest rate of 7% per annum (compunded monthly). Shaun is now buying a car worth rs 6,00,000, which he is planning to finance using a 1 year loan with an interest rate of 12% per annum. Both loans are paid back with emis. What is the total monthly payment Shaun makes towards loan repayment."
      ],
      "metadata": {
        "id": "n5NZRQbDZ5hZ"
      }
    },
    {
      "cell_type": "code",
      "source": [
        "import math\n",
        "emi_home = loan_emi(amount=8e5, duration=6*12, rate=7/1200, down_payment=8e5/4)\n",
        "print(\"emi_amount of home is {}\".format(math.ceil(emi_home)))\n",
        "\n",
        "emi_car = loan_emi(amount=6e5, duration=1*12, rate=12/1200, down_payment=0)\n",
        "print(\"emi_amount of car is {}\".format(math.ceil(emi_car)))\n",
        "\n",
        "total_emi = emi_home+emi_car\n",
        "print(\"emi_amount of house and car is {}\".format(math.ceil(total_emi)))\n"
      ],
      "metadata": {
        "colab": {
          "base_uri": "https://localhost:8080/"
        },
        "id": "BfRJPShUZ2kv",
        "outputId": "58f94b7f-2d96-4329-e122-03e1d6b37a88"
      },
      "execution_count": 25,
      "outputs": [
        {
          "output_type": "stream",
          "name": "stdout",
          "text": [
            "emi_amount of home is 10230\n",
            "emi_amount of car is 53310\n",
            "emi_amount of house and car is 63539\n"
          ]
        }
      ]
    },
    {
      "cell_type": "markdown",
      "source": [
        "# Problem: Three\n",
        "---\n",
        "If we borrow 1,00,000 using a 10 year loan an interest rate of 9% per annum, what is the total amount you end up paying an interest?"
      ],
      "metadata": {
        "id": "hnPgnvwErt6r"
      }
    },
    {
      "cell_type": "code",
      "source": [
        "import math\n",
        "borrowed_amt = 1e5\n",
        "duration = 10*12\n",
        "rate = 0.09/12\n",
        "# here we calculated the different of sum of all emis per month and total amount borrowed,\n",
        "# which will give amount payed extra which is interest#\n",
        "\n",
        "emi_borrow = loan_emi(borrowed_amt, duration, rate, down_payment=0)\n",
        "print(f\"Emi payed per month is Rs:{math.ceil(emi_borrow)}\")\n",
        "\n",
        "amount_end_of_loan = emi_borrow * duration\n",
        "print(f\"Amount payed at the end of loan is Rs:{math.ceil(amount_end_of_loan)}\")\n",
        "\n",
        "Interest = amount_end_of_loan - borrowed_amt\n",
        "print(f\"Amount payed as interest or entra at the end of loan is Rs:{math.ceil(Interest)}\")"
      ],
      "metadata": {
        "colab": {
          "base_uri": "https://localhost:8080/"
        },
        "id": "w4Wm7tGLmW6U",
        "outputId": "cd8dcea1-03b8-444f-ae0a-42b7b37be775"
      },
      "execution_count": 32,
      "outputs": [
        {
          "output_type": "stream",
          "name": "stdout",
          "text": [
            "Emi payed per month is Rs:1267\n",
            "Amount payed at the end of loan is Rs:152011\n",
            "Amount payed as interest or entra at the end of loan is Rs:52011\n"
          ]
        }
      ]
    },
    {
      "cell_type": "markdown",
      "source": [
        "## Problem: Three(b)\n",
        "---\n",
        "If we borrow 1,00,000 using a 10 year loan an interest rate of 9% per annum, what is the total amount you end up paying an interest?"
      ],
      "metadata": {
        "id": "LT23f1lFHeE8"
      }
    },
    {
      "cell_type": "code",
      "source": [
        "# This problem is alternative way of dealing the above problem\n",
        "import math\n",
        "borrowed_amt = 1e5\n",
        "duration = 10*12\n",
        "rate = 0.09/12\n",
        "\n",
        "emi_borrow = loan_emi(borrowed_amt, duration, rate, down_payment=0)\n",
        "print(f\"Emi payed per month is Rs:{math.ceil(emi_borrow)}\")\n",
        "\n",
        "emi_without_interest = loan_emi(borrowed_amt, duration, rate=0, down_payment=0)\n",
        "print(f\"Emi payed per month without interest is Rs:{math.ceil(emi_without_interest)}\")\n",
        "\n",
        "amount_end_of_loan = emi_borrow * duration\n",
        "print(f\"Amount payed at the end of loan is Rs:{math.ceil(amount_end_of_loan)}\")\n",
        "\n",
        "Interest = (emi_borrow - emi_without_interest)* duration\n",
        "print(f\"Amount payed as interest or entra at the end of loan is Rs:{math.ceil(Interest)}\")"
      ],
      "metadata": {
        "colab": {
          "base_uri": "https://localhost:8080/"
        },
        "id": "9Z1kUMDpD_Su",
        "outputId": "d1bf04d6-b435-47a9-8d80-97d395a911b4"
      },
      "execution_count": 33,
      "outputs": [
        {
          "output_type": "stream",
          "name": "stdout",
          "text": [
            "Emi payed per month is Rs:1267\n",
            "Emi payed per month without interest is Rs:834\n",
            "Amount payed at the end of loan is Rs:152011\n",
            "Amount payed as interest or entra at the end of loan is Rs:52011\n"
          ]
        }
      ]
    }
  ]
}